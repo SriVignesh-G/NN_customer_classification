{
 "cells": [
  {
   "cell_type": "code",
   "execution_count": null,
   "metadata": {
    "id": "qjNMeu4BUvJY"
   },
   "outputs": [],
   "source": [
    "import torch\n",
    "import torch.nn as nn\n",
    "import torch.optim as optim\n",
    "import torch.nn.functional as F\n",
    "import pandas as pd\n",
    "import numpy as np\n",
    "from sklearn.model_selection import train_test_split\n",
    "from sklearn.preprocessing import StandardScaler, LabelEncoder\n",
    "from sklearn.metrics import accuracy_score, confusion_matrix, classification_report\n",
    "from torch.utils.data import TensorDataset, DataLoader"
   ]
  },
  {
   "cell_type": "code",
   "execution_count": null,
   "metadata": {
    "id": "PP5JFYFJVAEa"
   },
   "outputs": [],
   "source": [
    "# Load dataset\n",
    "data = pd.read_csv(\"/content/customers.csv\")\n",
    "data.head()"
   ]
  },
  {
   "cell_type": "code",
   "execution_count": null,
   "metadata": {
    "id": "7oVhnoeSm0Zh"
   },
   "outputs": [],
   "source": [
    "print(data.columns)\n",
    "data = data.drop(columns=[\"ID\"])\n",
    "data"
   ]
  },
  {
   "cell_type": "code",
   "execution_count": null,
   "metadata": {
    "id": "L90tQoYXVc73"
   },
   "outputs": [],
   "source": [
    "# Handle missing values\n",
    "data.fillna({\"Work_Experience\": 0, \"Family_Size\": data[\"Family_Size\"].median()}, inplace=True)"
   ]
  },
  {
   "cell_type": "code",
   "execution_count": null,
   "metadata": {
    "id": "OCMmZPpEVkZ4"
   },
   "outputs": [],
   "source": [
    "# Encode categorical variables\n",
    "categorical_columns = [\"Gender\", \"Ever_Married\", \"Graduated\", \"Profession\", \"Spending_Score\", \"Var_1\"]\n",
    "for col in categorical_columns:\n",
    "    data[col] = LabelEncoder().fit_transform(data[col])"
   ]
  },
  {
   "cell_type": "code",
   "execution_count": null,
   "metadata": {
    "id": "ziWFu17NVmQI"
   },
   "outputs": [],
   "source": [
    "# Encode target variable\n",
    "label_encoder = LabelEncoder()\n",
    "data[\"Segmentation\"] = label_encoder.fit_transform(data[\"Segmentation\"])  # A, B, C, D -> 0, 1, 2, 3"
   ]
  },
  {
   "cell_type": "markdown",
   "metadata": {
    "id": "3hthvk_kVt6g"
   },
   "source": []
  },
  {
   "cell_type": "code",
   "execution_count": null,
   "metadata": {
    "id": "nVaYZZYqVuZQ"
   },
   "outputs": [],
   "source": [
    "# Split features and target\n",
    "X = data.drop(columns=[\"Segmentation\"])\n",
    "y = data[\"Segmentation\"].values\n",
    "\n",
    "# Train-test split\n",
    "X_train, X_test, y_train, y_test = train_test_split(X, y, test_size=0.2, random_state=42)"
   ]
  },
  {
   "cell_type": "code",
   "execution_count": null,
   "metadata": {
    "id": "4dGm9IQZVy4g"
   },
   "outputs": [],
   "source": [
    "# Normalize features\n",
    "scaler = StandardScaler()\n",
    "X_train = scaler.fit_transform(X_train)\n",
    "X_test = scaler.transform(X_test)"
   ]
  },
  {
   "cell_type": "code",
   "execution_count": null,
   "metadata": {
    "id": "64fodcmEV13w"
   },
   "outputs": [],
   "source": [
    "# Convert to tensors\n",
    "X_train = torch.tensor(X_train, dtype=torch.float32)\n",
    "X_test = torch.tensor(X_test, dtype=torch.float32)\n",
    "y_train = torch.tensor(y_train, dtype=torch.long)\n",
    "y_test = torch.tensor(y_test, dtype=torch.long)"
   ]
  },
  {
   "cell_type": "code",
   "execution_count": null,
   "metadata": {
    "id": "NpiA5CLbV40Q"
   },
   "outputs": [],
   "source": [
    "# Create DataLoader\n",
    "train_dataset = TensorDataset(X_train, y_train)\n",
    "test_dataset = TensorDataset(X_test, y_test)\n",
    "train_loader = DataLoader(train_dataset, batch_size=16, shuffle=True)\n",
    "test_loader = DataLoader(test_dataset, batch_size=16)\n"
   ]
  },
  {
   "cell_type": "code",
   "execution_count": null,
   "metadata": {
    "id": "8nA99f2ZV7zg"
   },
   "outputs": [],
   "source": [
    "class PeopleClassifier(nn.Module):\n",
    "    def __init__(self, input_size):\n",
    "        super(PeopleClassifier, self).__init__()\n",
    "        self.fc1 = nn.Linear(input_size, 32)\n",
    "        self.fc2 = nn.Linear(32, 16)\n",
    "        self.fc3 = nn.Linear(16, 8)\n",
    "        self.fc4 = nn.Linear(8, 4)\n",
    "    def forward(self, x):\n",
    "        x=F.relu(self.fc1(x))\n",
    "        x=F.relu(self.fc2(x))\n",
    "        x=F.relu(self.fc3(x))\n",
    "        x=self.fc4(x)\n",
    "        return x"
   ]
  },
  {
   "cell_type": "code",
   "execution_count": null,
   "metadata": {},
   "outputs": [],
   "source": [
    "# Initialize the Model, Loss Function, and Optimizer\n",
    "model =PeopleClassifier(input_size=X_train.shape[1])\n",
    "criterion =nn.CrossEntropyLoss()\n",
    "optimizer =optim.Adam(model.parameters(),lr=0.001)"
   ]
  },
  {
   "cell_type": "code",
   "execution_count": null,
   "metadata": {
    "id": "IQfMHF-h02V0"
   },
   "outputs": [],
   "source": [
    "def train(trainloader,model,criterion,optimizer,epochs):\n",
    "  for epoch in range(epochs):\n",
    "    model.train()\n",
    "    for X_batch,y_batch in train_loader:\n",
    "      optimizer.zero_grad()\n",
    "      y_pred = model(X_batch)\n",
    "      loss = criterion(y_pred,y_batch)\n",
    "      loss.backward()\n",
    "      optimizer.step()\n",
    "    if (epoch+1)%20 == 0:\n",
    "      print(f\"Epoch [{epoch+1}/{epochs}],Loss:{loss.item():.4f}\")\n"
   ]
  },
  {
   "cell_type": "code",
   "execution_count": null,
   "metadata": {
    "id": "Pgp0tFUuV_JA"
   },
   "outputs": [],
   "source": [
    "train(train_loader,model,criterion,optimizer,100)"
   ]
  },
  {
   "cell_type": "code",
   "execution_count": null,
   "metadata": {
    "id": "WTpQsnWIWF0I"
   },
   "outputs": [],
   "source": [
    "# Evaluation\n",
    "model.eval()\n",
    "predictions, actuals = [], []\n",
    "with torch.no_grad():\n",
    "    for X_batch, y_batch in test_loader:\n",
    "        outputs = model(X_batch)\n",
    "        _, predicted = torch.max(outputs, 1)\n",
    "        predictions.extend(predicted.numpy())\n",
    "        actuals.extend(y_batch.numpy())"
   ]
  },
  {
   "cell_type": "code",
   "execution_count": null,
   "metadata": {
    "id": "Pve8K5qMWHUA"
   },
   "outputs": [],
   "source": [
    "# Compute metrics\n",
    "accuracy = accuracy_score(actuals, predictions)\n",
    "conf_matrix = confusion_matrix(actuals, predictions)\n",
    "class_report = classification_report(actuals, predictions, target_names=[str(i) for i in label_encoder.classes_])\n",
    "print(\"Name: Sri Vignesh G\")\n",
    "print(\"Register No: 212223040204\")\n",
    "print(f'Test Accuracy: {accuracy:.2f}%')\n",
    "print(\"Confusion Matrix:\\n\", conf_matrix)\n",
    "print(\"Classification Report:\\n\", class_report)"
   ]
  },
  {
   "cell_type": "code",
   "execution_count": null,
   "metadata": {
    "id": "8ofe-XKTu_2B"
   },
   "outputs": [],
   "source": [
    "import seaborn as sns\n",
    "import matplotlib.pyplot as plt\n",
    "sns.heatmap(conf_matrix, annot=True, cmap='Blues', xticklabels=label_encoder.classes_, yticklabels=label_encoder.classes_,fmt='g')\n",
    "plt.xlabel(\"Predicted Labels\")\n",
    "plt.ylabel(\"True Labels\")\n",
    "plt.title(\"Confusion Matrix\")\n",
    "plt.show()"
   ]
  },
  {
   "cell_type": "code",
   "execution_count": null,
   "metadata": {
    "id": "LjOT_4_BWLJA"
   },
   "outputs": [],
   "source": [
    "# Prediction for a sample input\n",
    "sample_input = X_test[12].clone().unsqueeze(0).detach().type(torch.float32)\n",
    "with torch.no_grad():\n",
    "    output = model(sample_input)\n",
    "    # Select the prediction for the sample (first element)\n",
    "    predicted_class_index = torch.argmax(output[0]).item()\n",
    "    predicted_class_label = label_encoder.inverse_transform([predicted_class_index])[0]\n",
    "print(\"Name: Sri Vignesh G\")\n",
    "print(\"Register No: 212223040204\")\n",
    "print(f'Predicted class for sample input: {predicted_class_label}')\n",
    "print(f'Actual class for sample input: {label_encoder.inverse_transform([y_test[12].item()])[0]}')"
   ]
  }
 ],
 "metadata": {
  "colab": {
   "authorship_tag": "ABX9TyMRI9Gd6kMBpk3jiBp179oZ",
   "provenance": []
  },
  "kernelspec": {
   "display_name": "Python 3",
   "name": "python3"
  },
  "language_info": {
   "name": "python"
  }
 },
 "nbformat": 4,
 "nbformat_minor": 0
}
